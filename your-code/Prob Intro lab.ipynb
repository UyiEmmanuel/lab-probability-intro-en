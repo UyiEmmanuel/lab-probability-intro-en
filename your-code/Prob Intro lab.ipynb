{
 "cells": [
  {
   "cell_type": "markdown",
   "metadata": {},
   "source": [
    "# Probability"
   ]
  },
  {
   "cell_type": "markdown",
   "metadata": {},
   "source": [
    "## Challenge 1\n",
    "There is a box with 10 white balls, 12 red balls and 8 black balls. Calculate the probability of:\n",
    "* Taking a white ball out.\n",
    "* Taking a white ball on first extraction and a black ball out on second extraction without replacing the first one.\n",
    "* Taking a white ball on first extraction and a black ball out on second extraction replacing the first one.\n",
    "* Taking 3 balls and them being all different colours."
   ]
  },
  {
   "cell_type": "code",
   "execution_count": 1,
   "metadata": {},
   "outputs": [
    {
     "name": "stdout",
     "output_type": "stream",
     "text": [
      "Probability of taking a white ball out: 0.33\n",
      "Probability of taking a white ball first and a black ball second without replacement: 0.0920\n",
      "Probability of taking a white ball first and a black ball second with replacement: 0.0889\n",
      "Probability of taking 3 balls and them being all different colours: 0.2365\n"
     ]
    }
   ],
   "source": [
    "# YOUR CODE HERE\n",
    "import itertools\n",
    "\n",
    "# Number of balls\n",
    "white_balls = 10\n",
    "red_balls = 12\n",
    "black_balls = 8\n",
    "total_balls = white_balls + red_balls + black_balls\n",
    "\n",
    "# Part 1: Probability of taking a white ball out\n",
    "p_white = white_balls / total_balls\n",
    "print(f\"Probability of taking a white ball out: {p_white:.2f}\")\n",
    "\n",
    "# Part 2: Probability of taking a white ball first and a black ball second without replacement\n",
    "p_white_first = white_balls / total_balls\n",
    "p_black_second_without_replacement = black_balls / (total_balls - 1)\n",
    "p_white_then_black_without_replacement = p_white_first * p_black_second_without_replacement\n",
    "print(f\"Probability of taking a white ball first and a black ball second without replacement: {p_white_then_black_without_replacement:.4f}\")\n",
    "\n",
    "# Part 3: Probability of taking a white ball first and a black ball second with replacement\n",
    "p_black_second_with_replacement = black_balls / total_balls\n",
    "p_white_then_black_with_replacement = p_white_first * p_black_second_with_replacement\n",
    "print(f\"Probability of taking a white ball first and a black ball second with replacement: {p_white_then_black_with_replacement:.4f}\")\n",
    "\n",
    "# Part 4: Probability of taking 3 balls and them being all different colours\n",
    "total_combinations = list(itertools.combinations(range(total_balls), 3))\n",
    "\n",
    "# Valid combinations where all balls are of different colors\n",
    "valid_combinations = 0\n",
    "for combination in total_combinations:\n",
    "    white_count = sum(1 for i in combination if i < white_balls)\n",
    "    red_count = sum(1 for i in combination if white_balls <= i < white_balls + red_balls)\n",
    "    black_count = sum(1 for i in combination if i >= white_balls + red_balls)\n",
    "    if white_count == 1 and red_count == 1 and black_count == 1:\n",
    "        valid_combinations += 1\n",
    "\n",
    "p_all_different_colours = valid_combinations / len(total_combinations)\n",
    "print(f\"Probability of taking 3 balls and them being all different colours: {p_all_different_colours:.4f}\")\n"
   ]
  },
  {
   "cell_type": "markdown",
   "metadata": {},
   "source": [
    "## Challenge 2\n",
    "\n",
    "You want to go on picnic on Saturday. You hate rain, and would know to plan your weekend. To help you make a decision, you gather the following data about rainy days:\n",
    "\n",
    "* 40% of all days are cloudy.\n",
    "* About 50% of cloudy days are rainy. \n",
    "* About 20% of non-cloudy days are rainy.\n",
    "\n",
    "What is the chance of rain during next Saturday?"
   ]
  },
  {
   "cell_type": "code",
   "execution_count": 2,
   "metadata": {},
   "outputs": [
    {
     "name": "stdout",
     "output_type": "stream",
     "text": [
      "The chance of rain on Saturday is: 32.00%\n"
     ]
    }
   ],
   "source": [
    "# YOUR CODE HERE\n",
    "# Given probabilities\n",
    "P_C = 0.4  # Probability that a day is cloudy\n",
    "P_R_given_C = 0.5  # Probability that it rains given that it is cloudy\n",
    "P_R_given_not_C = 0.2  # Probability that it rains given that it is not cloudy\n",
    "\n",
    "# Probability that it is not cloudy\n",
    "P_not_C = 1 - P_C\n",
    "\n",
    "# Total probability of rain\n",
    "P_R = P_R_given_C * P_C + P_R_given_not_C * P_not_C\n",
    "P_R\n",
    "\n",
    "print(f\"The chance of rain on Saturday is: {P_R:.2%}\")\n"
   ]
  },
  {
   "cell_type": "markdown",
   "metadata": {},
   "source": [
    "## Challenge 3\n",
    "\n",
    "A and B are events of a probability such that $P(A) = 0.3$, $P(B) = 0.6$ and $P(A \\cap B) = 0.1$\n",
    "\n",
    "Which of the following statements are true?  \n",
    "**HINT: draw a big Venn Diagram by your side**  \n",
    "* $P(\\overline{A}) = 0.7$\n",
    "* $P(A \\cup B) = 0.6$\n",
    "* $P(A \\cap \\overline{B}) = 0.2$\n",
    "* $P(A \\cup \\overline{A}) = 1$  \n",
    "* $P(A \\cap (B \\cup \\overline{B})) = 0.4$\n",
    "* $P(\\overline{A} \\cap \\overline{B}) = 0.3$\n",
    "* $P(\\overline{A \\cap B}) = 0.9$"
   ]
  },
  {
   "cell_type": "code",
   "execution_count": 4,
   "metadata": {},
   "outputs": [
    {
     "name": "stdout",
     "output_type": "stream",
     "text": [
      "Statement 1 is True\n",
      "Statement 2 is False\n",
      "Statement 3 is False\n",
      "Statement 4 is True\n",
      "Statement 5 is False\n",
      "Statement 6 is False\n",
      "Statement 7 is False\n"
     ]
    }
   ],
   "source": [
    "# YOUR CODE HERE\n",
    "# Given probabilities\n",
    "P_A = 0.3\n",
    "P_B = 0.6\n",
    "P_A_and_B = 0.1\n",
    "\n",
    "# 1. P(A⎯⎯⎯⎯)=0.7\n",
    "P_not_A = 1 - P_A\n",
    "statement_1 = P_not_A == 0.7\n",
    "\n",
    "# 2. P(A∪B)=0.6\n",
    "P_A_or_B = P_A + P_B - P_A_and_B\n",
    "statement_2 = P_A_or_B == 0.6\n",
    "\n",
    "# 3. P(A∩B⎯⎯⎯⎯)=0.2\n",
    "P_A_and_not_B = P_A - P_A_and_B\n",
    "statement_3 = P_A_and_not_B == 0.2\n",
    "\n",
    "# 4. P(A∪A⎯⎯⎯⎯)=1\n",
    "P_A_or_not_A = 1  # Always true since A ∪ A⎯⎯⎯⎯ is the entire sample space\n",
    "statement_4 = P_A_or_not_A == 1\n",
    "\n",
    "# 5. P(A∩(B∪B⎯⎯⎯⎯))=0.4\n",
    "P_B_or_not_B = 1  # B ∪ B⎯⎯⎯⎯ is the entire sample space\n",
    "P_A_and_B_or_not_B = P_A  # Since A ∩ (B ∪ B⎯⎯⎯⎯) = A\n",
    "statement_5 = P_A_and_B_or_not_B == 0.4\n",
    "\n",
    "# 6. P(A⎯⎯⎯⎯∩B⎯⎯⎯⎯)=0.3\n",
    "P_not_A_and_not_B = 1 - P_A_or_B\n",
    "statement_6 = P_not_A_and_not_B == 0.3\n",
    "\n",
    "# 7. P(A∩B⎯⎯⎯⎯)=0.9\n",
    "P_A_and_not_B = P_A - P_A_and_B\n",
    "statement_7 = P_A_and_not_B == 0.9\n",
    "\n",
    "# Print the results\n",
    "print(f\"Statement 1 is {statement_1}\")\n",
    "print(f\"Statement 2 is {statement_2}\")\n",
    "print(f\"Statement 3 is {statement_3}\")\n",
    "print(f\"Statement 4 is {statement_4}\")\n",
    "print(f\"Statement 5 is {statement_5}\")\n",
    "print(f\"Statement 6 is {statement_6}\")\n",
    "print(f\"Statement 7 is {statement_7}\")\n"
   ]
  },
  {
   "cell_type": "markdown",
   "metadata": {},
   "source": [
    "## Challenge 4\n",
    "\n",
    " * If someone flies to China, the probability of getting Covid is 1%  \n",
    " * If someone flies to Italy, the probability of getting Covid is 20%  \n",
    "\n",
    "I roll 1 dice with numbers 1, 2, 3, 4, 5, 6:  \n",
    " * If 1: I fly to Italy\n",
    " * If not 1: I fly to China\n",
    "\n",
    "During my trip, I got Covid. What is the probability that I flew to China?"
   ]
  },
  {
   "cell_type": "code",
   "execution_count": 5,
   "metadata": {},
   "outputs": [
    {
     "data": {
      "text/plain": [
       "0.2"
      ]
     },
     "execution_count": 5,
     "metadata": {},
     "output_type": "execute_result"
    }
   ],
   "source": [
    "# YOUR CODE HERE\n",
    "# Given probabilities\n",
    "P_C = 5 / 6  # Probability of flying to China\n",
    "P_I = 1 / 6  # Probability of flying to Italy\n",
    "P_D_given_C = 0.01  # Probability of getting Covid if in China\n",
    "P_D_given_I = 0.2  # Probability of getting Covid if in Italy\n",
    "\n",
    "# Total probability of getting Covid\n",
    "P_D = P_D_given_C * P_C + P_D_given_I * P_I\n",
    "\n",
    "# Probability of having flown to China given that you got Covid\n",
    "P_C_given_D = (P_D_given_C * P_C) / P_D\n",
    "\n",
    "P_C_given_D\n"
   ]
  },
  {
   "cell_type": "markdown",
   "metadata": {},
   "source": [
    "## BONUS\n",
    "\n",
    "You roll 2 dice. What is the probability that the sum of the numbers is 7? And 8? And 9? Then simulate 10000 times and draw a countplot."
   ]
  },
  {
   "cell_type": "markdown",
   "metadata": {},
   "source": [
    "your explanation here"
   ]
  },
  {
   "cell_type": "code",
   "execution_count": null,
   "metadata": {},
   "outputs": [],
   "source": [
    "# YOUR CODE HERE\n"
   ]
  }
 ],
 "metadata": {
  "kernelspec": {
   "display_name": "Python 3 (ipykernel)",
   "language": "python",
   "name": "python3"
  },
  "language_info": {
   "codemirror_mode": {
    "name": "ipython",
    "version": 3
   },
   "file_extension": ".py",
   "mimetype": "text/x-python",
   "name": "python",
   "nbconvert_exporter": "python",
   "pygments_lexer": "ipython3",
   "version": "3.11.7"
  },
  "toc": {
   "base_numbering": 1,
   "nav_menu": {},
   "number_sections": false,
   "sideBar": true,
   "skip_h1_title": false,
   "title_cell": "Table of Contents",
   "title_sidebar": "Contents",
   "toc_cell": false,
   "toc_position": {
    "height": "calc(100% - 180px)",
    "left": "10px",
    "top": "150px",
    "width": "296.475px"
   },
   "toc_section_display": true,
   "toc_window_display": false
  },
  "varInspector": {
   "cols": {
    "lenName": 16,
    "lenType": 16,
    "lenVar": 40
   },
   "kernels_config": {
    "python": {
     "delete_cmd_postfix": "",
     "delete_cmd_prefix": "del ",
     "library": "var_list.py",
     "varRefreshCmd": "print(var_dic_list())"
    },
    "r": {
     "delete_cmd_postfix": ") ",
     "delete_cmd_prefix": "rm(",
     "library": "var_list.r",
     "varRefreshCmd": "cat(var_dic_list()) "
    }
   },
   "types_to_exclude": [
    "module",
    "function",
    "builtin_function_or_method",
    "instance",
    "_Feature"
   ],
   "window_display": false
  }
 },
 "nbformat": 4,
 "nbformat_minor": 2
}
